{
  "nbformat": 4,
  "nbformat_minor": 0,
  "metadata": {
    "colab": {
      "name": "Apim.ipynb",
      "provenance": [],
      "collapsed_sections": [],
      "authorship_tag": "ABX9TyOFgGh6E/Kj5RK6VEZbBPJe",
      "include_colab_link": true
    },
    "kernelspec": {
      "name": "python3",
      "display_name": "Python 3"
    },
    "language_info": {
      "name": "python"
    }
  },
  "cells": [
    {
      "cell_type": "markdown",
      "metadata": {
        "id": "view-in-github",
        "colab_type": "text"
      },
      "source": [
        "<a href=\"https://colab.research.google.com/github/ogut77/University/blob/main/Apim.ipynb\" target=\"_parent\"><img src=\"https://colab.research.google.com/assets/colab-badge.svg\" alt=\"Open In Colab\"/></a>"
      ]
    },
    {
      "cell_type": "code",
      "metadata": {
        "colab": {
          "base_uri": "https://localhost:8080/"
        },
        "id": "ncWXgi-DbUxd",
        "outputId": "ae31da4d-dd82-4a60-cb8a-bffe4fce649e"
      },
      "source": [
        "import urllib.request\n",
        "from urllib.parse import urlparse\n",
        "import json\n",
        "def Lookup(ip):\n",
        "\n",
        "\tresponse = urllib.request.Request(\"http://v2.api.iphub.info/ip/{}\".format(ip))\n",
        "\tresponse.add_header(\"X-Key\", \"OTEwMzo5ZldKUGVkdndmUFBJclI1TWlJa0xrU3FmcFByVm95aw==\")\n",
        "\t\n",
        "\ttry:\n",
        "\t\tresponse = json.loads(urllib.request.urlopen(response).read().decode())\n",
        "\texcept:\n",
        "\t\treturn False # In the case of an error, pass all IP's to avoid blocking innocents\n",
        "\n",
        "\treturn response.get(\"block\") # Defaults to None if failed to get block value\n",
        " \n",
        "print(Lookup('69.58.92.41'))\n",
        "print(Lookup('75.129.185.99'))"
      ],
      "execution_count": 2,
      "outputs": [
        {
          "output_type": "stream",
          "name": "stdout",
          "text": [
            "1\n",
            "0\n"
          ]
        }
      ]
    }
  ]
}