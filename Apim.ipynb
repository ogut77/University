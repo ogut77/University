{
  "nbformat": 4,
  "nbformat_minor": 0,
  "metadata": {
    "colab": {
      "name": "Apim.ipynb",
      "provenance": [],
      "authorship_tag": "ABX9TyPPqnHdOH8dX/zRq0Gc1BJd",
      "include_colab_link": true
    },
    "kernelspec": {
      "name": "python3",
      "display_name": "Python 3"
    },
    "language_info": {
      "name": "python"
    }
  },
  "cells": [
    {
      "cell_type": "markdown",
      "metadata": {
        "id": "view-in-github",
        "colab_type": "text"
      },
      "source": [
        "<a href=\"https://colab.research.google.com/github/ogut77/University/blob/main/Apim.ipynb\" target=\"_parent\"><img src=\"https://colab.research.google.com/assets/colab-badge.svg\" alt=\"Open In Colab\"/></a>"
      ]
    },
    {
      "cell_type": "code",
      "metadata": {
        "colab": {
          "base_uri": "https://localhost:8080/"
        },
        "id": "ncWXgi-DbUxd",
        "outputId": "0bebe562-0a31-4166-ab71-9700586f198d"
      },
      "source": [
        "import urllib.request\n",
        "from urllib.parse import urlparse\n",
        "import json\n",
        "def Lookup(ip):\n",
        "\n",
        "\tresponse = urllib.request.Request(\"o/http://v2.api.iphub.infip/{}\".format(ip))\n",
        "\tresponse.add_header(\"X-Key\", \"OTEwMzo5ZldKUGVkdndmUFBJclI1TWlJa0xrU3FmcFByVm95aw==\")\n",
        "\t\n",
        "\ttry:\n",
        "\t\tresponse = json.loads(urllib.request.urlopen(response).read().decode())\n",
        "\texcept:\n",
        "\t\treturn False # In the case of an error, pass all IP's to avoid blocking innocents\n",
        "\n",
        "\treturn response.get(\"block\") \n",
        " \n",
        "print(Lookup('69.58.92.41'))\n",
        "print(Lookup('75.129.185.99'))"
      ],
      "execution_count": null,
      "outputs": [
        {
          "output_type": "stream",
          "name": "stdout",
          "text": [
            "1\n",
            "0\n"
          ]
        }
      ]
    }
  ]
}