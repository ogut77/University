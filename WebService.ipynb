{
  "nbformat": 4,
  "nbformat_minor": 0,
  "metadata": {
    "colab": {
      "provenance": [],
      "authorship_tag": "ABX9TyOOocn0M7CJtC5iTyxoUeXH",
      "include_colab_link": true
    },
    "kernelspec": {
      "name": "python3",
      "display_name": "Python 3"
    },
    "language_info": {
      "name": "python"
    }
  },
  "cells": [
    {
      "cell_type": "markdown",
      "metadata": {
        "id": "view-in-github",
        "colab_type": "text"
      },
      "source": [
        "<a href=\"https://colab.research.google.com/github/ogut77/University/blob/main/WebService.ipynb\" target=\"_parent\"><img src=\"https://colab.research.google.com/assets/colab-badge.svg\" alt=\"Open In Colab\"/></a>"
      ]
    },
    {
      "cell_type": "code",
      "execution_count": null,
      "metadata": {
        "id": "cbryqqKyd7ck"
      },
      "outputs": [],
      "source": [
        "!pip install contextily\n",
        "import contextily as ctx\n",
        "import json\n",
        "import numpy as np\n",
        "import os\n",
        "import pandas as pd\n",
        "import requests\n",
        "import ssl\n",
        "import urllib.parse\n",
        "import urllib.request\n",
        "import warnings\n",
        "\n",
        "URL = 'https://api.epias.com.tr'\n",
        "ROOT = '/epias/exchange/transparency'\n",
        "ctx = ssl.create_default_context(ssl.Purpose.SERVER_AUTH)\n",
        "ctx.options |= 0x4\n",
        "start_date=\"2023-04-01\"\n",
        "end_date=\"2023-04-03\"\n",
        "path = '/market/intra-day-trade-history'\n",
        "params = {'startDate': start_date, 'endDate': end_date}\n",
        "request_url = URL + ROOT + path + '?' + urllib.parse.urlencode(params)\n",
        "\n",
        "response = urllib.request.urlopen(request_url, context=ctx)\n",
        "res = response.read().decode('utf-8')\n",
        "data = json.loads(res)\n",
        "\n",
        "d12 = pd.DataFrame(data['body']['intraDayTradeHistoryList'])\n",
        "new = d12['date'].str.split(\"+\", expand=True)\n",
        "d12['date'] = new[0]\n",
        "d12['date'] = pd.to_datetime(d12['date'])\n",
        "d12"
      ]
    }
  ]
}